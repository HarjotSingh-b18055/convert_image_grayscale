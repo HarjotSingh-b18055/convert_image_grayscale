{
  "nbformat": 4,
  "nbformat_minor": 0,
  "metadata": {
    "colab": {
      "provenance": [],
      "include_colab_link": true
    },
    "kernelspec": {
      "name": "python3",
      "display_name": "Python 3"
    }
  },
  "cells": [
    {
      "cell_type": "markdown",
      "metadata": {
        "id": "view-in-github",
        "colab_type": "text"
      },
      "source": [
        "<a href=\"https://colab.research.google.com/github/HarjotSingh-b18055/convert_image_grayscale/blob/main/Convert_100_images_to_Grey_Scale_(b_w).ipynb\" target=\"_parent\"><img src=\"https://colab.research.google.com/assets/colab-badge.svg\" alt=\"Open In Colab\"/></a>"
      ]
    },
    {
      "cell_type": "code",
      "metadata": {
        "id": "7afm_8wfrrOb"
      },
      "source": [
        "import os, cv2\n",
        "def load_images_and_convert_grayscale(folder):\n",
        "    for filename in os.listdir(folder):\n",
        "        img = cv2.imread(os.path.join(folder,filename), 1)\n",
        "        if img is not None:\n",
        "            gray = cv2.cvtColor(img, cv2.COLOR_BGR2GRAY)\n",
        "            cv2.imwrite(f'/content/output/{filename}',gray)\n",
        "\n",
        "load_images_and_convert_grayscale('/content/input/')"
      ],
      "execution_count": 19,
      "outputs": []
    }
  ]
}